{
 "metadata": {
  "kernelspec": {
   "display_name": "Python 3",
   "language": "python",
   "name": "python3"
  },
  "language_info": {
   "name": "python",
   "version": "3.10.12",
   "mimetype": "text/x-python",
   "codemirror_mode": {
    "name": "ipython",
    "version": 3
   },
   "pygments_lexer": "ipython3",
   "nbconvert_exporter": "python",
   "file_extension": ".py"
  }
 },
 "nbformat_minor": 4,
 "nbformat": 4,
 "cells": [
  {
   "cell_type": "code",
   "source": [
    "import pandas as pd\n",
    "from collections import OrderedDict\n",
    "import pydicom\n",
    "import os\n",
    "import matplotlib.pyplot as plt\n",
    "import numpy as np\n",
    "import matplotlib.image\n",
    "import matplotlib.animation as animation\n",
    "from IPython.display import HTML\n",
    "import dotenv\n",
    "import torch\n",
    "import torchvision as tv\n",
    "from torchvision.transforms import v2\n",
    "from torchvision.models import resnet50, ResNet50_Weights\n",
    "from torch.nn.functional import silu, sigmoid, softmax\n",
    "from torch.utils.data import Dataset, DataLoader\n",
    "import torch.nn as nn\n",
    "\n",
    "%matplotlib notebook"
   ],
   "metadata": {
    "pycharm": {
     "name": "#%%\n"
    },
    "execution": {
     "iopub.status.busy": "2023-09-02T01:39:16.234324Z",
     "iopub.execute_input": "2023-09-02T01:39:16.234723Z",
     "iopub.status.idle": "2023-09-02T01:39:20.126539Z",
     "shell.execute_reply.started": "2023-09-02T01:39:16.234688Z",
     "shell.execute_reply": "2023-09-02T01:39:20.125389Z"
    },
    "trusted": true
   },
   "execution_count": 1,
   "outputs": [
    {
     "name": "stderr",
     "text": "/opt/conda/lib/python3.10/site-packages/torchvision/datapoints/__init__.py:12: UserWarning: The torchvision.datapoints and torchvision.transforms.v2 namespaces are still Beta. While we do not expect major breaking changes, some APIs may still change according to user feedback. Please submit any feedback you may have in this issue: https://github.com/pytorch/vision/issues/6753, and you can also check out https://github.com/pytorch/vision/issues/7319 to learn more about the APIs that we suspect might involve future changes. You can silence this warning by calling torchvision.disable_beta_transforms_warning().\n  warnings.warn(_BETA_TRANSFORMS_WARNING)\n/opt/conda/lib/python3.10/site-packages/torchvision/transforms/v2/__init__.py:54: UserWarning: The torchvision.datapoints and torchvision.transforms.v2 namespaces are still Beta. While we do not expect major breaking changes, some APIs may still change according to user feedback. Please submit any feedback you may have in this issue: https://github.com/pytorch/vision/issues/6753, and you can also check out https://github.com/pytorch/vision/issues/7319 to learn more about the APIs that we suspect might involve future changes. You can silence this warning by calling torchvision.disable_beta_transforms_warning().\n  warnings.warn(_BETA_TRANSFORMS_WARNING)\n",
     "output_type": "stream"
    }
   ]
  },
  {
   "cell_type": "markdown",
   "source": [
    "## Data Loading"
   ],
   "metadata": {
    "pycharm": {
     "name": "#%% md\n"
    }
   }
  },
  {
   "cell_type": "code",
   "source": [
    "# the data root\n",
    "root = '/kaggle/input/rsna-2023-abdominal-trauma-detection'"
   ],
   "metadata": {
    "collapsed": false,
    "pycharm": {
     "name": "#%%\n"
    },
    "jupyter": {
     "outputs_hidden": false
    },
    "execution": {
     "iopub.status.busy": "2023-09-02T01:41:48.191515Z",
     "iopub.execute_input": "2023-09-02T01:41:48.191994Z",
     "iopub.status.idle": "2023-09-02T01:41:48.197059Z",
     "shell.execute_reply.started": "2023-09-02T01:41:48.191959Z",
     "shell.execute_reply": "2023-09-02T01:41:48.196046Z"
    },
    "trusted": true
   },
   "execution_count": 22,
   "outputs": []
  },
  {
   "cell_type": "code",
   "source": [
    "train_image_root = f'{root}/train_images'\n",
    "train_data_path = f'{root}/train.csv'\n",
    "scan_path = f'{root}/train_series_meta.csv'\n",
    "injuries_path = f'{root}/image_level_labels.csv'\n",
    "tag_path = f'{root}/train_dicom_tags.parquet'"
   ],
   "metadata": {
    "collapsed": false,
    "pycharm": {
     "name": "#%%\n"
    },
    "jupyter": {
     "outputs_hidden": false
    },
    "execution": {
     "iopub.status.busy": "2023-09-02T01:41:48.455776Z",
     "iopub.execute_input": "2023-09-02T01:41:48.456209Z",
     "iopub.status.idle": "2023-09-02T01:41:48.461967Z",
     "shell.execute_reply.started": "2023-09-02T01:41:48.456174Z",
     "shell.execute_reply": "2023-09-02T01:41:48.460998Z"
    },
    "trusted": true
   },
   "execution_count": 23,
   "outputs": []
  },
  {
   "cell_type": "code",
   "source": [
    "labels = pd.read_csv(train_data_path)\n",
    "scans = pd.read_csv(scan_path)\n",
    "injuries = pd.read_csv(injuries_path)\n",
    "tags = pd.read_parquet(tag_path)"
   ],
   "metadata": {
    "collapsed": false,
    "pycharm": {
     "name": "#%%\n"
    },
    "jupyter": {
     "outputs_hidden": false
    },
    "execution": {
     "iopub.status.busy": "2023-09-02T01:41:48.758531Z",
     "iopub.execute_input": "2023-09-02T01:41:48.759033Z",
     "iopub.status.idle": "2023-09-02T01:41:54.666510Z",
     "shell.execute_reply.started": "2023-09-02T01:41:48.758973Z",
     "shell.execute_reply": "2023-09-02T01:41:54.665356Z"
    },
    "trusted": true
   },
   "execution_count": 24,
   "outputs": []
  },
  {
   "cell_type": "code",
   "source": [
    "class Config:\n",
    "    TRAIN_SPLIT = 0.8\n",
    "    LABELS = [\n",
    "        \"bowel_injury\", \"extravasation_injury\",\n",
    "        \"kidney_healthy\", \"kidney_low\", \"kidney_high\",\n",
    "        \"liver_healthy\", \"liver_low\", \"liver_high\",\n",
    "        \"spleen_healthy\", \"spleen_low\", \"spleen_high\",\n",
    "    ]\n",
    "    BATCH_SIZE = 128\n",
    "    IMAGE_SIZE = 512\n",
    "    NUM_EPOCHS = 10\n",
    "    VAL_BATCH_SIZE=128\n",
    "    BATCHES_PER_EVALUATION = 25\n",
    "torch.cuda.empty_cache()\n",
    "device = torch.device(\"cuda:0\" if torch.cuda.is_available() else \"cpu\")\n",
    "config = Config()"
   ],
   "metadata": {
    "collapsed": false,
    "pycharm": {
     "name": "#%%\n"
    },
    "jupyter": {
     "outputs_hidden": false
    },
    "execution": {
     "iopub.status.busy": "2023-09-02T01:41:54.669028Z",
     "iopub.execute_input": "2023-09-02T01:41:54.669403Z",
     "iopub.status.idle": "2023-09-02T01:41:54.677618Z",
     "shell.execute_reply.started": "2023-09-02T01:41:54.669367Z",
     "shell.execute_reply": "2023-09-02T01:41:54.676551Z"
    },
    "trusted": true
   },
   "execution_count": 25,
   "outputs": []
  },
  {
   "cell_type": "markdown",
   "source": [
    "## Choosing the Training & Validation Images"
   ],
   "metadata": {
    "pycharm": {
     "name": "#%% md\n"
    }
   }
  },
  {
   "cell_type": "code",
   "source": [
    "label_by_patient = labels.groupby(['patient_id'])\n",
    "def id_to_labels(row):\n",
    "    return label_by_patient.get_group(row['patient_id']).squeeze()\n",
    "# The injuries give us \"interesting\" images to use\n",
    "data = pd.concat((injuries[['patient_id']].apply(id_to_labels, axis=1), injuries[['series_id', 'instance_number']]), axis=1)\n",
    "data['image_path'] = train_image_root + '/' + data['patient_id'].astype(str) + '/' + data['series_id'].astype(str) + '/' + data['instance_number'].astype(str) + \".dcm\""
   ],
   "metadata": {
    "collapsed": false,
    "pycharm": {
     "name": "#%%\n"
    },
    "jupyter": {
     "outputs_hidden": false
    },
    "execution": {
     "iopub.status.busy": "2023-09-02T01:41:54.679465Z",
     "iopub.execute_input": "2023-09-02T01:41:54.680224Z",
     "iopub.status.idle": "2023-09-02T01:41:58.171866Z",
     "shell.execute_reply.started": "2023-09-02T01:41:54.680185Z",
     "shell.execute_reply": "2023-09-02T01:41:58.170830Z"
    },
    "trusted": true
   },
   "execution_count": 26,
   "outputs": []
  },
  {
   "cell_type": "code",
   "source": [
    "data.head()"
   ],
   "metadata": {
    "collapsed": false,
    "pycharm": {
     "name": "#%%\n"
    },
    "jupyter": {
     "outputs_hidden": false
    },
    "execution": {
     "iopub.status.busy": "2023-09-02T01:39:30.516219Z",
     "iopub.execute_input": "2023-09-02T01:39:30.517173Z",
     "iopub.status.idle": "2023-09-02T01:39:30.537905Z",
     "shell.execute_reply.started": "2023-09-02T01:39:30.517138Z",
     "shell.execute_reply": "2023-09-02T01:39:30.536801Z"
    },
    "trusted": true
   },
   "execution_count": 7,
   "outputs": [
    {
     "execution_count": 7,
     "output_type": "execute_result",
     "data": {
      "text/plain": "   patient_id  bowel_healthy  bowel_injury  extravasation_healthy  \\\n0       10004              1             0                      0   \n1       10004              1             0                      0   \n2       10004              1             0                      0   \n3       10004              1             0                      0   \n4       10004              1             0                      0   \n\n   extravasation_injury  kidney_healthy  kidney_low  kidney_high  \\\n0                     1               0           1            0   \n1                     1               0           1            0   \n2                     1               0           1            0   \n3                     1               0           1            0   \n4                     1               0           1            0   \n\n   liver_healthy  liver_low  liver_high  spleen_healthy  spleen_low  \\\n0              1          0           0               0           0   \n1              1          0           0               0           0   \n2              1          0           0               0           0   \n3              1          0           0               0           0   \n4              1          0           0               0           0   \n\n   spleen_high  any_injury  series_id  instance_number  \\\n0            1           1      21057              362   \n1            1           1      21057              363   \n2            1           1      21057              364   \n3            1           1      21057              365   \n4            1           1      21057              366   \n\n                                          image_path  \n0  /kaggle/input/rsna-2023-abdominal-trauma-detec...  \n1  /kaggle/input/rsna-2023-abdominal-trauma-detec...  \n2  /kaggle/input/rsna-2023-abdominal-trauma-detec...  \n3  /kaggle/input/rsna-2023-abdominal-trauma-detec...  \n4  /kaggle/input/rsna-2023-abdominal-trauma-detec...  ",
      "text/html": "<div>\n<style scoped>\n    .dataframe tbody tr th:only-of-type {\n        vertical-align: middle;\n    }\n\n    .dataframe tbody tr th {\n        vertical-align: top;\n    }\n\n    .dataframe thead th {\n        text-align: right;\n    }\n</style>\n<table border=\"1\" class=\"dataframe\">\n  <thead>\n    <tr style=\"text-align: right;\">\n      <th></th>\n      <th>patient_id</th>\n      <th>bowel_healthy</th>\n      <th>bowel_injury</th>\n      <th>extravasation_healthy</th>\n      <th>extravasation_injury</th>\n      <th>kidney_healthy</th>\n      <th>kidney_low</th>\n      <th>kidney_high</th>\n      <th>liver_healthy</th>\n      <th>liver_low</th>\n      <th>liver_high</th>\n      <th>spleen_healthy</th>\n      <th>spleen_low</th>\n      <th>spleen_high</th>\n      <th>any_injury</th>\n      <th>series_id</th>\n      <th>instance_number</th>\n      <th>image_path</th>\n    </tr>\n  </thead>\n  <tbody>\n    <tr>\n      <th>0</th>\n      <td>10004</td>\n      <td>1</td>\n      <td>0</td>\n      <td>0</td>\n      <td>1</td>\n      <td>0</td>\n      <td>1</td>\n      <td>0</td>\n      <td>1</td>\n      <td>0</td>\n      <td>0</td>\n      <td>0</td>\n      <td>0</td>\n      <td>1</td>\n      <td>1</td>\n      <td>21057</td>\n      <td>362</td>\n      <td>/kaggle/input/rsna-2023-abdominal-trauma-detec...</td>\n    </tr>\n    <tr>\n      <th>1</th>\n      <td>10004</td>\n      <td>1</td>\n      <td>0</td>\n      <td>0</td>\n      <td>1</td>\n      <td>0</td>\n      <td>1</td>\n      <td>0</td>\n      <td>1</td>\n      <td>0</td>\n      <td>0</td>\n      <td>0</td>\n      <td>0</td>\n      <td>1</td>\n      <td>1</td>\n      <td>21057</td>\n      <td>363</td>\n      <td>/kaggle/input/rsna-2023-abdominal-trauma-detec...</td>\n    </tr>\n    <tr>\n      <th>2</th>\n      <td>10004</td>\n      <td>1</td>\n      <td>0</td>\n      <td>0</td>\n      <td>1</td>\n      <td>0</td>\n      <td>1</td>\n      <td>0</td>\n      <td>1</td>\n      <td>0</td>\n      <td>0</td>\n      <td>0</td>\n      <td>0</td>\n      <td>1</td>\n      <td>1</td>\n      <td>21057</td>\n      <td>364</td>\n      <td>/kaggle/input/rsna-2023-abdominal-trauma-detec...</td>\n    </tr>\n    <tr>\n      <th>3</th>\n      <td>10004</td>\n      <td>1</td>\n      <td>0</td>\n      <td>0</td>\n      <td>1</td>\n      <td>0</td>\n      <td>1</td>\n      <td>0</td>\n      <td>1</td>\n      <td>0</td>\n      <td>0</td>\n      <td>0</td>\n      <td>0</td>\n      <td>1</td>\n      <td>1</td>\n      <td>21057</td>\n      <td>365</td>\n      <td>/kaggle/input/rsna-2023-abdominal-trauma-detec...</td>\n    </tr>\n    <tr>\n      <th>4</th>\n      <td>10004</td>\n      <td>1</td>\n      <td>0</td>\n      <td>0</td>\n      <td>1</td>\n      <td>0</td>\n      <td>1</td>\n      <td>0</td>\n      <td>1</td>\n      <td>0</td>\n      <td>0</td>\n      <td>0</td>\n      <td>0</td>\n      <td>1</td>\n      <td>1</td>\n      <td>21057</td>\n      <td>366</td>\n      <td>/kaggle/input/rsna-2023-abdominal-trauma-detec...</td>\n    </tr>\n  </tbody>\n</table>\n</div>"
     },
     "metadata": {}
    }
   ]
  },
  {
   "cell_type": "code",
   "source": [
    "# TRAIN_SPLIT of the patients will be used for training, the rest for validation\n",
    "train_people = pd.Series(data['patient_id'].unique()).sample(frac=config.TRAIN_SPLIT)\n",
    "train = data.loc[data['patient_id'].isin(train_people)]\n",
    "val = data.loc[~data['patient_id'].isin(train_people)]\n",
    "\n",
    "train.set_index(np.asarray(range(len(train))), inplace=True)\n",
    "val.set_index(np.asarray(range(len(val))), inplace=True)"
   ],
   "metadata": {
    "collapsed": false,
    "pycharm": {
     "name": "#%%\n"
    },
    "jupyter": {
     "outputs_hidden": false
    },
    "execution": {
     "iopub.status.busy": "2023-09-02T01:39:30.539475Z",
     "iopub.execute_input": "2023-09-02T01:39:30.540039Z",
     "iopub.status.idle": "2023-09-02T01:39:30.552545Z",
     "shell.execute_reply.started": "2023-09-02T01:39:30.540006Z",
     "shell.execute_reply": "2023-09-02T01:39:30.551691Z"
    },
    "trusted": true
   },
   "execution_count": 8,
   "outputs": []
  },
  {
   "cell_type": "code",
   "source": [
    "train.head()"
   ],
   "metadata": {
    "collapsed": false,
    "pycharm": {
     "name": "#%%\n"
    },
    "jupyter": {
     "outputs_hidden": false
    },
    "execution": {
     "iopub.status.busy": "2023-09-02T01:39:30.553962Z",
     "iopub.execute_input": "2023-09-02T01:39:30.554396Z",
     "iopub.status.idle": "2023-09-02T01:39:30.575912Z",
     "shell.execute_reply.started": "2023-09-02T01:39:30.554364Z",
     "shell.execute_reply": "2023-09-02T01:39:30.574927Z"
    },
    "trusted": true
   },
   "execution_count": 9,
   "outputs": [
    {
     "execution_count": 9,
     "output_type": "execute_result",
     "data": {
      "text/plain": "   patient_id  bowel_healthy  bowel_injury  extravasation_healthy  \\\n0       10004              1             0                      0   \n1       10004              1             0                      0   \n2       10004              1             0                      0   \n3       10004              1             0                      0   \n4       10004              1             0                      0   \n\n   extravasation_injury  kidney_healthy  kidney_low  kidney_high  \\\n0                     1               0           1            0   \n1                     1               0           1            0   \n2                     1               0           1            0   \n3                     1               0           1            0   \n4                     1               0           1            0   \n\n   liver_healthy  liver_low  liver_high  spleen_healthy  spleen_low  \\\n0              1          0           0               0           0   \n1              1          0           0               0           0   \n2              1          0           0               0           0   \n3              1          0           0               0           0   \n4              1          0           0               0           0   \n\n   spleen_high  any_injury  series_id  instance_number  \\\n0            1           1      21057              362   \n1            1           1      21057              363   \n2            1           1      21057              364   \n3            1           1      21057              365   \n4            1           1      21057              366   \n\n                                          image_path  \n0  /kaggle/input/rsna-2023-abdominal-trauma-detec...  \n1  /kaggle/input/rsna-2023-abdominal-trauma-detec...  \n2  /kaggle/input/rsna-2023-abdominal-trauma-detec...  \n3  /kaggle/input/rsna-2023-abdominal-trauma-detec...  \n4  /kaggle/input/rsna-2023-abdominal-trauma-detec...  ",
      "text/html": "<div>\n<style scoped>\n    .dataframe tbody tr th:only-of-type {\n        vertical-align: middle;\n    }\n\n    .dataframe tbody tr th {\n        vertical-align: top;\n    }\n\n    .dataframe thead th {\n        text-align: right;\n    }\n</style>\n<table border=\"1\" class=\"dataframe\">\n  <thead>\n    <tr style=\"text-align: right;\">\n      <th></th>\n      <th>patient_id</th>\n      <th>bowel_healthy</th>\n      <th>bowel_injury</th>\n      <th>extravasation_healthy</th>\n      <th>extravasation_injury</th>\n      <th>kidney_healthy</th>\n      <th>kidney_low</th>\n      <th>kidney_high</th>\n      <th>liver_healthy</th>\n      <th>liver_low</th>\n      <th>liver_high</th>\n      <th>spleen_healthy</th>\n      <th>spleen_low</th>\n      <th>spleen_high</th>\n      <th>any_injury</th>\n      <th>series_id</th>\n      <th>instance_number</th>\n      <th>image_path</th>\n    </tr>\n  </thead>\n  <tbody>\n    <tr>\n      <th>0</th>\n      <td>10004</td>\n      <td>1</td>\n      <td>0</td>\n      <td>0</td>\n      <td>1</td>\n      <td>0</td>\n      <td>1</td>\n      <td>0</td>\n      <td>1</td>\n      <td>0</td>\n      <td>0</td>\n      <td>0</td>\n      <td>0</td>\n      <td>1</td>\n      <td>1</td>\n      <td>21057</td>\n      <td>362</td>\n      <td>/kaggle/input/rsna-2023-abdominal-trauma-detec...</td>\n    </tr>\n    <tr>\n      <th>1</th>\n      <td>10004</td>\n      <td>1</td>\n      <td>0</td>\n      <td>0</td>\n      <td>1</td>\n      <td>0</td>\n      <td>1</td>\n      <td>0</td>\n      <td>1</td>\n      <td>0</td>\n      <td>0</td>\n      <td>0</td>\n      <td>0</td>\n      <td>1</td>\n      <td>1</td>\n      <td>21057</td>\n      <td>363</td>\n      <td>/kaggle/input/rsna-2023-abdominal-trauma-detec...</td>\n    </tr>\n    <tr>\n      <th>2</th>\n      <td>10004</td>\n      <td>1</td>\n      <td>0</td>\n      <td>0</td>\n      <td>1</td>\n      <td>0</td>\n      <td>1</td>\n      <td>0</td>\n      <td>1</td>\n      <td>0</td>\n      <td>0</td>\n      <td>0</td>\n      <td>0</td>\n      <td>1</td>\n      <td>1</td>\n      <td>21057</td>\n      <td>364</td>\n      <td>/kaggle/input/rsna-2023-abdominal-trauma-detec...</td>\n    </tr>\n    <tr>\n      <th>3</th>\n      <td>10004</td>\n      <td>1</td>\n      <td>0</td>\n      <td>0</td>\n      <td>1</td>\n      <td>0</td>\n      <td>1</td>\n      <td>0</td>\n      <td>1</td>\n      <td>0</td>\n      <td>0</td>\n      <td>0</td>\n      <td>0</td>\n      <td>1</td>\n      <td>1</td>\n      <td>21057</td>\n      <td>365</td>\n      <td>/kaggle/input/rsna-2023-abdominal-trauma-detec...</td>\n    </tr>\n    <tr>\n      <th>4</th>\n      <td>10004</td>\n      <td>1</td>\n      <td>0</td>\n      <td>0</td>\n      <td>1</td>\n      <td>0</td>\n      <td>1</td>\n      <td>0</td>\n      <td>1</td>\n      <td>0</td>\n      <td>0</td>\n      <td>0</td>\n      <td>0</td>\n      <td>1</td>\n      <td>1</td>\n      <td>21057</td>\n      <td>366</td>\n      <td>/kaggle/input/rsna-2023-abdominal-trauma-detec...</td>\n    </tr>\n  </tbody>\n</table>\n</div>"
     },
     "metadata": {}
    }
   ]
  },
  {
   "cell_type": "markdown",
   "source": [
    "## Declare Dataset"
   ],
   "metadata": {
    "pycharm": {
     "name": "#%% md\n"
    }
   }
  },
  {
   "cell_type": "code",
   "source": [
    "image_augment = v2.Compose([\n",
    "    v2.RandomResizedCrop(size=(config.IMAGE_SIZE, config.IMAGE_SIZE), scale=(0.8, 1.0), antialias=True),\n",
    "])"
   ],
   "metadata": {
    "collapsed": false,
    "pycharm": {
     "name": "#%%\n"
    },
    "jupyter": {
     "outputs_hidden": false
    },
    "execution": {
     "iopub.status.busy": "2023-09-02T01:39:30.579659Z",
     "iopub.execute_input": "2023-09-02T01:39:30.579923Z",
     "iopub.status.idle": "2023-09-02T01:39:30.640606Z",
     "shell.execute_reply.started": "2023-09-02T01:39:30.579899Z",
     "shell.execute_reply": "2023-09-02T01:39:30.639591Z"
    },
    "trusted": true
   },
   "execution_count": 10,
   "outputs": []
  },
  {
   "cell_type": "code",
   "source": [
    "def read_image(path):\n",
    "    ds = pydicom.dcmread(path)\n",
    "    return ds.pixel_array\n",
    "\n",
    "class MedicalDataset(Dataset):\n",
    "    def __init__(self, source: pd.DataFrame):\n",
    "        self.image_paths = source['image_path']\n",
    "        # 0/1 kidney injury, 0/1 fluid injury, kidney health (3 vals), liver health (3 vals), spleen health (3 vals)\n",
    "        self.labels = torch.from_numpy(source[config.LABELS].to_numpy().astype('float32'))\n",
    "        self.source = source\n",
    "    def __len__(self):\n",
    "        return len(self.source)\n",
    "    def __getitem__(self, idx):\n",
    "        image = torch.from_numpy(np.expand_dims(read_image(self.image_paths[idx]).astype('float32'), 0))\n",
    "        image -= image.min()\n",
    "        image /= image.max()\n",
    "        \n",
    "        image = torch.repeat_interleave(image, 3, dim=0)\n",
    "        image = image_augment(image)\n",
    "        # print(image.min(), image.max(), image.shape)\n",
    "        if image.shape != (3, config.IMAGE_SIZE, config.IMAGE_SIZE):\n",
    "            raise Exception(f'Image at {self.image_paths[idx]} has shape {image.shape}')\n",
    "        label = (self.labels[idx][0:1], self.labels[idx][1:2], self.labels[idx][2:5], self.labels[idx][5:8], self.labels[idx][8:11])\n",
    "        return image, label"
   ],
   "metadata": {
    "collapsed": false,
    "pycharm": {
     "name": "#%%\n"
    },
    "jupyter": {
     "outputs_hidden": false
    },
    "execution": {
     "iopub.status.busy": "2023-09-02T01:41:58.173960Z",
     "iopub.execute_input": "2023-09-02T01:41:58.174342Z",
     "iopub.status.idle": "2023-09-02T01:41:58.185014Z",
     "shell.execute_reply.started": "2023-09-02T01:41:58.174307Z",
     "shell.execute_reply": "2023-09-02T01:41:58.183940Z"
    },
    "trusted": true
   },
   "execution_count": 27,
   "outputs": []
  },
  {
   "cell_type": "code",
   "source": [
    "train_ds = MedicalDataset(train)\n",
    "val_ds = MedicalDataset(val)\n",
    "train_dl = DataLoader(train_ds, batch_size=config.BATCH_SIZE, shuffle=True)\n",
    "val_dl = DataLoader(val_ds, batch_size=config.VAL_BATCH_SIZE)"
   ],
   "metadata": {
    "collapsed": false,
    "pycharm": {
     "name": "#%%\n"
    },
    "jupyter": {
     "outputs_hidden": false
    },
    "execution": {
     "iopub.status.busy": "2023-09-02T01:41:58.243617Z",
     "iopub.execute_input": "2023-09-02T01:41:58.243998Z",
     "iopub.status.idle": "2023-09-02T01:41:58.253897Z",
     "shell.execute_reply.started": "2023-09-02T01:41:58.243967Z",
     "shell.execute_reply": "2023-09-02T01:41:58.252634Z"
    },
    "trusted": true
   },
   "execution_count": 28,
   "outputs": []
  },
  {
   "cell_type": "markdown",
   "source": [
    "## Declare Model"
   ],
   "metadata": {
    "pycharm": {
     "name": "#%% md\n"
    }
   }
  },
  {
   "cell_type": "code",
   "source": [
    "class Classifier(nn.Module):\n",
    "    def __init__(self):\n",
    "        super(Classifier, self).__init__()\n",
    "\n",
    "        self.backbone = nn.Sequential(*(list(resnet50(weights=ResNet50_Weights.DEFAULT).children())[:-1]))\n",
    "        for param in self.backbone.parameters():\n",
    "            param.requires_grad = False\n",
    "        self.necks = nn.ModuleList([nn.Linear(2048, 32) for _ in range(5)])\n",
    "        self.bowel = nn.Linear(32, 1)\n",
    "        self.fluid = nn.Linear(32, 1)\n",
    "        self.kidney = nn.Linear(32, 3)\n",
    "        self.liver = nn.Linear(32, 3)\n",
    "        self.spleen = nn.Linear(32, 3)\n",
    "\n",
    "    def forward(self, x):\n",
    "        x = torch.flatten(self.backbone(x), start_dim=1)\n",
    "        # bowel, fluid, kidney, liver, spleen\n",
    "        necks = [silu(self.necks[i](x)) for i in range(5)]\n",
    "\n",
    "        bowel = torch.flatten(sigmoid(self.bowel(necks[0])), start_dim=1)\n",
    "        fluid = torch.flatten(sigmoid(self.fluid(necks[1])), start_dim=1)\n",
    "        kidney = softmax(torch.flatten(self.kidney(necks[2]), start_dim=1), dim=1)\n",
    "        liver = softmax(torch.flatten(self.liver(necks[3]), start_dim=1), dim=1)\n",
    "        spleen = softmax(torch.flatten(self.spleen(necks[4]), start_dim=1), dim=1)\n",
    "        return bowel, fluid, kidney, liver, spleen"
   ],
   "metadata": {
    "collapsed": false,
    "pycharm": {
     "name": "#%%\n"
    },
    "jupyter": {
     "outputs_hidden": false
    },
    "execution": {
     "iopub.status.busy": "2023-09-02T01:42:02.439573Z",
     "iopub.execute_input": "2023-09-02T01:42:02.439970Z",
     "iopub.status.idle": "2023-09-02T01:42:02.453152Z",
     "shell.execute_reply.started": "2023-09-02T01:42:02.439941Z",
     "shell.execute_reply": "2023-09-02T01:42:02.451796Z"
    },
    "trusted": true
   },
   "execution_count": 29,
   "outputs": []
  },
  {
   "cell_type": "code",
   "source": [
    "classifier = Classifier()\n",
    "classifier.to(device)\n",
    "result = classifier(next(iter(train_dl))[0].to(device))"
   ],
   "metadata": {
    "collapsed": false,
    "pycharm": {
     "name": "#%%\n"
    },
    "jupyter": {
     "outputs_hidden": false
    },
    "execution": {
     "iopub.status.busy": "2023-09-02T01:39:30.691041Z",
     "iopub.execute_input": "2023-09-02T01:39:30.691756Z",
     "iopub.status.idle": "2023-09-02T01:39:42.024236Z",
     "shell.execute_reply.started": "2023-09-02T01:39:30.691715Z",
     "shell.execute_reply": "2023-09-02T01:39:42.023230Z"
    },
    "trusted": true
   },
   "execution_count": 14,
   "outputs": [
    {
     "name": "stderr",
     "text": "Downloading: \"https://download.pytorch.org/models/resnet50-11ad3fa6.pth\" to /root/.cache/torch/hub/checkpoints/resnet50-11ad3fa6.pth\n100%|██████████| 97.8M/97.8M [00:01<00:00, 76.7MB/s]\n",
     "output_type": "stream"
    }
   ]
  },
  {
   "cell_type": "code",
   "source": [
    "def calc_loss(output, target): # tuples 4D batched tensors please!\n",
    "    bce = nn.BCELoss()\n",
    "    cross = nn.CrossEntropyLoss()\n",
    "    loss = bce(output[0], target[0]) + bce(output[1], target[1]) + cross(output[2], target[2]) + cross(output[3], target[3]) + cross(output[4], target[4])\n",
    "    return loss\n",
    "optimizer = torch.optim.Adam(classifier.parameters())"
   ],
   "metadata": {
    "execution": {
     "iopub.status.busy": "2023-09-02T01:42:05.587757Z",
     "iopub.execute_input": "2023-09-02T01:42:05.588536Z",
     "iopub.status.idle": "2023-09-02T01:42:05.598600Z",
     "shell.execute_reply.started": "2023-09-02T01:42:05.588492Z",
     "shell.execute_reply": "2023-09-02T01:42:05.597460Z"
    },
    "trusted": true,
    "pycharm": {
     "name": "#%%\n"
    }
   },
   "execution_count": 30,
   "outputs": []
  },
  {
   "cell_type": "code",
   "source": [
    "def to_device(inputs, labels):\n",
    "    return inputs.to(device), tuple(map(lambda i: i.to(device), labels))\n",
    "\n",
    "for epoch in range(config.NUM_EPOCHS):\n",
    "    running_loss = 0.0\n",
    "    for i, data in enumerate(train_dl):\n",
    "        inputs, labels = to_device(*data)\n",
    "        \n",
    "        optimizer.zero_grad()\n",
    "        outputs = classifier(inputs)\n",
    "        loss = calc_loss(outputs, labels)\n",
    "        loss.backward()\n",
    "        optimizer.step()\n",
    "        \n",
    "        print(i, end=\"\")\n",
    "        running_loss += loss.item()\n",
    "        if i % config.BATCHES_PER_EVALUATION == config.BATCHES_PER_EVALUATION-1:\n",
    "            print()\n",
    "            print(f'Epoch {epoch} batch {i} loss: {running_loss / config.BATCHES_PER_EVALUATION}')\n",
    "            running_loss = 0.0\n",
    "            \n",
    "    total_val_loss = 0.0\n",
    "    for data in val_dl:\n",
    "        inputs, labels = to_device(*data)\n",
    "        outputs = classifier(inputs)\n",
    "        loss = calc_loss(outputs, labels)\n",
    "        total_val_loss += loss.item()\n",
    "    print(f'Epoch {epoch} validation loss: {total_val_loss / len(val_dl)}')"
   ],
   "metadata": {
    "execution": {
     "iopub.status.busy": "2023-09-02T01:42:05.986309Z",
     "iopub.execute_input": "2023-09-02T01:42:05.986899Z"
    },
    "trusted": true,
    "pycharm": {
     "name": "#%%\n"
    }
   },
   "execution_count": null,
   "outputs": [
    {
     "name": "stdout",
     "text": "0123456789101112131415161718192021222324\nEpoch 0 batch 24 loss: 3.2332051277160643\n25262728293031323334353637383940414243444546474849\nEpoch 0 batch 49 loss: 3.0786562538146973\n50515253545556575859606162636465666768697071727374\nEpoch 0 batch 74 loss: 2.9696616554260253\nEpoch 0 validation loss: 3.5692181468009947\n0123456789101112131415161718192021222324\nEpoch 1 batch 24 loss: 2.833651885986328\n25262728293031323334353637383940414243444546474849\nEpoch 1 batch 49 loss: 2.705069761276245\n505152535455565758596061626364",
     "output_type": "stream"
    }
   ]
  }
 ]
}